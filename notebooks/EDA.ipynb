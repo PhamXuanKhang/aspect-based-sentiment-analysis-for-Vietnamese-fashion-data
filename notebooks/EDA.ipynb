{
 "cells": [
  {
   "cell_type": "code",
   "execution_count": null,
   "metadata": {},
   "outputs": [],
   "source": [
    "# Import necessary libraries\n",
    "import pandas as pd\n",
    "import numpy as np\n",
    "import matplotlib.pyplot as plt\n",
    "import re\n",
    "import json\n",
    "from pyvi import ViTokenizer\n",
    "import warnings\n",
    "warnings.filterwarnings('ignore')"
   ]
  },
  {
   "cell_type": "code",
   "execution_count": null,
   "metadata": {},
   "outputs": [],
   "source": [
    "# Load dataset\n",
    "df = pd.read_csv('fashion_comment_data.csv')"
   ]
  },
  {
   "cell_type": "markdown",
   "metadata": {},
   "source": [
    "### Overview of data"
   ]
  },
  {
   "cell_type": "code",
   "execution_count": 3,
   "metadata": {},
   "outputs": [
    {
     "data": {
      "text/html": [
       "<div>\n",
       "<style scoped>\n",
       "    .dataframe tbody tr th:only-of-type {\n",
       "        vertical-align: middle;\n",
       "    }\n",
       "\n",
       "    .dataframe tbody tr th {\n",
       "        vertical-align: top;\n",
       "    }\n",
       "\n",
       "    .dataframe thead th {\n",
       "        text-align: right;\n",
       "    }\n",
       "</style>\n",
       "<table border=\"1\" class=\"dataframe\">\n",
       "  <thead>\n",
       "    <tr style=\"text-align: right;\">\n",
       "      <th></th>\n",
       "      <th>ProductID</th>\n",
       "      <th>Clothes Type</th>\n",
       "      <th>Price</th>\n",
       "      <th>Selled Quantity</th>\n",
       "      <th>Overall Rating</th>\n",
       "      <th>sentiment_appearance</th>\n",
       "      <th>sentiment_delivery</th>\n",
       "      <th>sentiment_fabric_quality</th>\n",
       "      <th>sentiment_others</th>\n",
       "      <th>sentiment_packaging</th>\n",
       "      <th>sentiment_price</th>\n",
       "      <th>sentiment_service</th>\n",
       "      <th>sentiment_size_fit</th>\n",
       "      <th>text</th>\n",
       "    </tr>\n",
       "  </thead>\n",
       "  <tbody>\n",
       "    <tr>\n",
       "      <th>0</th>\n",
       "      <td>1</td>\n",
       "      <td>Women's Shirt</td>\n",
       "      <td>161000</td>\n",
       "      <td>9</td>\n",
       "      <td>5.0</td>\n",
       "      <td>NaN</td>\n",
       "      <td>NaN</td>\n",
       "      <td>positive</td>\n",
       "      <td>NaN</td>\n",
       "      <td>NaN</td>\n",
       "      <td>NaN</td>\n",
       "      <td>NaN</td>\n",
       "      <td>NaN</td>\n",
       "      <td>Đẹp vải măc mát.</td>\n",
       "    </tr>\n",
       "    <tr>\n",
       "      <th>1</th>\n",
       "      <td>2</td>\n",
       "      <td>Women's Shirt</td>\n",
       "      <td>112000</td>\n",
       "      <td>0</td>\n",
       "      <td>5.0</td>\n",
       "      <td>NaN</td>\n",
       "      <td>NaN</td>\n",
       "      <td>NaN</td>\n",
       "      <td>NaN</td>\n",
       "      <td>positive</td>\n",
       "      <td>NaN</td>\n",
       "      <td>NaN</td>\n",
       "      <td>NaN</td>\n",
       "      <td>Rất thích các áo in của Goking. Ý nghĩa. Chất ...</td>\n",
       "    </tr>\n",
       "    <tr>\n",
       "      <th>2</th>\n",
       "      <td>2</td>\n",
       "      <td>Women's Shirt</td>\n",
       "      <td>112000</td>\n",
       "      <td>0</td>\n",
       "      <td>5.0</td>\n",
       "      <td>NaN</td>\n",
       "      <td>NaN</td>\n",
       "      <td>positive</td>\n",
       "      <td>NaN</td>\n",
       "      <td>NaN</td>\n",
       "      <td>NaN</td>\n",
       "      <td>NaN</td>\n",
       "      <td>NaN</td>\n",
       "      <td>Áo phông mặc mát, hình in mềm mại. Đúng là hàn...</td>\n",
       "    </tr>\n",
       "    <tr>\n",
       "      <th>3</th>\n",
       "      <td>3</td>\n",
       "      <td>Women's Shirt</td>\n",
       "      <td>62000</td>\n",
       "      <td>14</td>\n",
       "      <td>5.0</td>\n",
       "      <td>positive</td>\n",
       "      <td>NaN</td>\n",
       "      <td>positive</td>\n",
       "      <td>NaN</td>\n",
       "      <td>NaN</td>\n",
       "      <td>NaN</td>\n",
       "      <td>NaN</td>\n",
       "      <td>NaN</td>\n",
       "      <td>Dù đôi chỗ còn may chưa đẹp lắm nhưng được cái...</td>\n",
       "    </tr>\n",
       "    <tr>\n",
       "      <th>4</th>\n",
       "      <td>3</td>\n",
       "      <td>Women's Shirt</td>\n",
       "      <td>62000</td>\n",
       "      <td>14</td>\n",
       "      <td>5.0</td>\n",
       "      <td>positive</td>\n",
       "      <td>NaN</td>\n",
       "      <td>positive</td>\n",
       "      <td>NaN</td>\n",
       "      <td>NaN</td>\n",
       "      <td>NaN</td>\n",
       "      <td>NaN</td>\n",
       "      <td>NaN</td>\n",
       "      <td>Hình in rất sắc nét, mềm mại, không dính. Rất ...</td>\n",
       "    </tr>\n",
       "  </tbody>\n",
       "</table>\n",
       "</div>"
      ],
      "text/plain": [
       "   ProductID   Clothes Type   Price Selled Quantity  Overall Rating  \\\n",
       "0          1  Women's Shirt  161000               9             5.0   \n",
       "1          2  Women's Shirt  112000               0             5.0   \n",
       "2          2  Women's Shirt  112000               0             5.0   \n",
       "3          3  Women's Shirt   62000              14             5.0   \n",
       "4          3  Women's Shirt   62000              14             5.0   \n",
       "\n",
       "  sentiment_appearance sentiment_delivery sentiment_fabric_quality  \\\n",
       "0                  NaN                NaN                 positive   \n",
       "1                  NaN                NaN                      NaN   \n",
       "2                  NaN                NaN                 positive   \n",
       "3             positive                NaN                 positive   \n",
       "4             positive                NaN                 positive   \n",
       "\n",
       "  sentiment_others sentiment_packaging sentiment_price sentiment_service  \\\n",
       "0              NaN                 NaN             NaN               NaN   \n",
       "1              NaN            positive             NaN               NaN   \n",
       "2              NaN                 NaN             NaN               NaN   \n",
       "3              NaN                 NaN             NaN               NaN   \n",
       "4              NaN                 NaN             NaN               NaN   \n",
       "\n",
       "  sentiment_size_fit                                               text  \n",
       "0                NaN                                   Đẹp vải măc mát.  \n",
       "1                NaN  Rất thích các áo in của Goking. Ý nghĩa. Chất ...  \n",
       "2                NaN  Áo phông mặc mát, hình in mềm mại. Đúng là hàn...  \n",
       "3                NaN  Dù đôi chỗ còn may chưa đẹp lắm nhưng được cái...  \n",
       "4                NaN  Hình in rất sắc nét, mềm mại, không dính. Rất ...  "
      ]
     },
     "execution_count": 3,
     "metadata": {},
     "output_type": "execute_result"
    }
   ],
   "source": [
    "df.head()"
   ]
  },
  {
   "cell_type": "code",
   "execution_count": 4,
   "metadata": {},
   "outputs": [
    {
     "name": "stdout",
     "output_type": "stream",
     "text": [
      "<class 'pandas.core.frame.DataFrame'>\n",
      "RangeIndex: 5500 entries, 0 to 5499\n",
      "Data columns (total 14 columns):\n",
      " #   Column                    Non-Null Count  Dtype  \n",
      "---  ------                    --------------  -----  \n",
      " 0   ProductID                 5500 non-null   int64  \n",
      " 1   Clothes Type              5500 non-null   object \n",
      " 2   Price                     5500 non-null   int64  \n",
      " 3   Selled Quantity           5500 non-null   object \n",
      " 4   Overall Rating            5500 non-null   float64\n",
      " 5   sentiment_appearance      2110 non-null   object \n",
      " 6   sentiment_delivery        701 non-null    object \n",
      " 7   sentiment_fabric_quality  1812 non-null   object \n",
      " 8   sentiment_others          1494 non-null   object \n",
      " 9   sentiment_packaging       262 non-null    object \n",
      " 10  sentiment_price           360 non-null    object \n",
      " 11  sentiment_service         241 non-null    object \n",
      " 12  sentiment_size_fit        702 non-null    object \n",
      " 13  text                      5500 non-null   object \n",
      "dtypes: float64(1), int64(2), object(11)\n",
      "memory usage: 601.7+ KB\n"
     ]
    }
   ],
   "source": [
    "df.info()"
   ]
  },
  {
   "cell_type": "markdown",
   "metadata": {},
   "source": [
    "### Normalize and correct misspelled and wrong words using a manual dictionary"
   ]
  },
  {
   "cell_type": "code",
   "execution_count": 5,
   "metadata": {},
   "outputs": [],
   "source": [
    "df.columns = ['ProductID', 'Clothes Type', 'Price', 'Selled Quantity', 'Overall Rating', 'appearance', 'delivery', 'fabric_quality', 'others', 'packaging', 'price', 'service', 'size_fit', 'text']"
   ]
  },
  {
   "cell_type": "code",
   "execution_count": 6,
   "metadata": {},
   "outputs": [],
   "source": [
    "# to lowercase\n",
    "df['processed_text'] = df['text'].apply(lambda x: x.lower())\n",
    "\n",
    "# drop punctuation\n",
    "df['processed_text'] = df['processed_text'].apply(lambda x: re.sub(r'[^\\w\\s]', '', x))\n",
    "\n",
    "# drop space\n",
    "df['processed_text'] = df['processed_text'].apply(lambda x: ' '.join(x.split()))"
   ]
  },
  {
   "cell_type": "code",
   "execution_count": null,
   "metadata": {},
   "outputs": [],
   "source": [
    "# replace words by manually dictionary\n",
    "with open('dictionary_edit.json', 'r') as file:\n",
    "    correction_map = json.load(file)\n",
    "\n",
    "apply_map = {}\n",
    "for key, values in correction_map.items():\n",
    "    if key != values:\n",
    "        apply_map[key] = values\n",
    "\n",
    "def replace_words(text, correction_map):\n",
    "    words = text.split()\n",
    "    replaced_words = [correction_map.get(word, word) for word in words]\n",
    "    return ' '.join(replaced_words)\n",
    "\n",
    "df['processed_text'] = df['processed_text'].apply(lambda x: replace_words(x, correction_map=apply_map))"
   ]
  },
  {
   "cell_type": "code",
   "execution_count": 8,
   "metadata": {},
   "outputs": [
    {
     "data": {
      "text/plain": [
       "117"
      ]
     },
     "execution_count": 8,
     "metadata": {},
     "output_type": "execute_result"
    }
   ],
   "source": [
    "df[df['processed_text'].str.contains(\" xem thêm\")]['processed_text'].count()"
   ]
  },
  {
   "cell_type": "markdown",
   "metadata": {},
   "source": [
    "> we can see that there are 117 rows that contain the word \" xem thêm\" in the 'processed_text' column because the wrong of crawling data process. We need to remove them."
   ]
  },
  {
   "cell_type": "code",
   "execution_count": 9,
   "metadata": {},
   "outputs": [],
   "source": [
    "df['processed_text'] = df['processed_text'].apply(lambda x: x.replace(' xem thêm', ''))"
   ]
  },
  {
   "cell_type": "code",
   "execution_count": null,
   "metadata": {},
   "outputs": [],
   "source": [
    "# remove remove duplicated data\n",
    "df.drop_duplicates(subset='processed_text', keep='first', inplace=True)"
   ]
  },
  {
   "cell_type": "markdown",
   "metadata": {},
   "source": [
    "### Visualization"
   ]
  },
  {
   "cell_type": "code",
   "execution_count": null,
   "metadata": {},
   "outputs": [
    {
     "data": {
      "text/plain": [
       "<Figure size 1200x1000 with 0 Axes>"
      ]
     },
     "metadata": {},
     "output_type": "display_data"
    },
    {
     "data": {
      "image/png": "[encoded data removed]",
      "text/plain": [
       "<Figure size 640x480 with 1 Axes>"
      ]
     },
     "metadata": {},
     "output_type": "display_data"
    }
   ],
   "source": [
    "columns = ['appearance', 'delivery', 'fabric_quality', 'others', 'packaging', 'price', 'service', 'size_fit']\n",
    "distribution_df = pd.concat([df[column].value_counts(dropna=True) for column in columns], axis=1)\n",
    "distribution_df.columns = columns\n",
    "distribution_df = distribution_df.fillna(0)\n",
    "\n",
    "plt.figure(figsize=(12, 10))\n",
    "distribution_df.T.plot(kind='bar', stacked=True, color=['#4ADC40', '#E41313', '#DDE933'])\n",
    "plt.title('Distribution of Sentiment Polarity in Each Aspect')\n",
    "plt.legend(title='Sentiment', labels=['Positive', 'Negative', 'Neutral'])\n",
    "plt.xticks([])\n",
    "\n",
    "# Add the table below the bar chart\n",
    "table_data = distribution_df.values.astype('int32')\n",
    "row_labels = distribution_df.index.map({1: 'negative', 2: 'neutral', 3: 'positive'}).tolist()\n",
    "table = plt.table(cellText=table_data, rowLabels=row_labels, colLabels=columns, loc='bottom', cellLoc='center')\n",
    "table.auto_set_font_size(False)\n",
    "table.set_fontsize(7)\n",
    "\n",
    "# Adjust the layout to make room for the table\n",
    "plt.subplots_adjust(left=0, bottom=0.2)\n",
    "\n",
    "plt.show()"
   ]
  },
  {
   "cell_type": "code",
   "execution_count": 12,
   "metadata": {},
   "outputs": [
    {
     "data": {
      "image/png": "[encoded data removed]",
      "text/plain": [
       "<Figure size 1200x600 with 1 Axes>"
      ]
     },
     "metadata": {},
     "output_type": "display_data"
    }
   ],
   "source": [
    "# Calculate the length of each text\n",
    "df_len_text = df['processed_text'].apply(lambda x: len(x.split(' ')))\n",
    "\n",
    "# Plot a histogram of text lengths\n",
    "plt.figure(figsize=(12, 6))\n",
    "plt.hist(df_len_text, bins=50, color='#4ADC40', alpha=0.7, rwidth=0.85)\n",
    "plt.title('Text Length Distribution')\n",
    "plt.xlabel('Length of Text')\n",
    "plt.ylabel('Frequency')\n",
    "plt.show()"
   ]
  },
  {
   "cell_type": "markdown",
   "metadata": {},
   "source": [
    "> We can see that the length of text is mostly between 10 and 20 words."
   ]
  },
  {
   "cell_type": "markdown",
   "metadata": {},
   "source": [
    "### Tokenize and drop columns"
   ]
  },
  {
   "cell_type": "code",
   "execution_count": null,
   "metadata": {},
   "outputs": [],
   "source": [
    "# Use tokenizer form pyvi library\n",
    "df['processed_text'] = df['processed_text'].apply(lambda x: ViTokenizer.tokenize(x))"
   ]
  },
  {
   "cell_type": "code",
   "execution_count": 14,
   "metadata": {},
   "outputs": [],
   "source": [
    "df.drop(columns=['ProductID', 'Clothes Type', 'Price', 'Selled Quantity',\n",
    "       'Overall Rating', 'text'], inplace=True)"
   ]
  },
  {
   "cell_type": "code",
   "execution_count": 15,
   "metadata": {},
   "outputs": [],
   "source": [
    "mapping_values = {\"positive\":3, \"neutral\":2, \"negative\":1, np.nan:0}\n",
    "\n",
    "df[df.columns[:-1]] = df[df.columns[:-1]].applymap(lambda x: mapping_values[x])"
   ]
  },
  {
   "cell_type": "markdown",
   "metadata": {},
   "source": [
    "### Split to train, val, test"
   ]
  },
  {
   "cell_type": "code",
   "execution_count": 16,
   "metadata": {},
   "outputs": [],
   "source": [
    "from sklearn.model_selection import train_test_split\n",
    "\n",
    "data_train, data_temp = train_test_split(df, test_size=0.2, random_state=42)\n",
    "data_val, data_test = train_test_split(data_temp, test_size=0.5, random_state=42)"
   ]
  },
  {
   "cell_type": "code",
   "execution_count": 17,
   "metadata": {},
   "outputs": [
    {
     "data": {
      "text/html": [
       "<div>\n",
       "<style scoped>\n",
       "    .dataframe tbody tr th:only-of-type {\n",
       "        vertical-align: middle;\n",
       "    }\n",
       "\n",
       "    .dataframe tbody tr th {\n",
       "        vertical-align: top;\n",
       "    }\n",
       "\n",
       "    .dataframe thead th {\n",
       "        text-align: right;\n",
       "    }\n",
       "</style>\n",
       "<table border=\"1\" class=\"dataframe\">\n",
       "  <thead>\n",
       "    <tr style=\"text-align: right;\">\n",
       "      <th></th>\n",
       "      <th>Review</th>\n",
       "      <th>Avg aspect/ review</th>\n",
       "      <th>Positive</th>\n",
       "      <th>Neutral</th>\n",
       "      <th>Negative</th>\n",
       "      <th>Total sentiment</th>\n",
       "    </tr>\n",
       "  </thead>\n",
       "  <tbody>\n",
       "    <tr>\n",
       "      <th>Train</th>\n",
       "      <td>3631</td>\n",
       "      <td>1.458276</td>\n",
       "      <td>3584</td>\n",
       "      <td>940</td>\n",
       "      <td>771</td>\n",
       "      <td>5295</td>\n",
       "    </tr>\n",
       "    <tr>\n",
       "      <th>Val</th>\n",
       "      <td>454</td>\n",
       "      <td>1.389868</td>\n",
       "      <td>412</td>\n",
       "      <td>119</td>\n",
       "      <td>100</td>\n",
       "      <td>631</td>\n",
       "    </tr>\n",
       "    <tr>\n",
       "      <th>Test</th>\n",
       "      <td>454</td>\n",
       "      <td>1.440529</td>\n",
       "      <td>451</td>\n",
       "      <td>124</td>\n",
       "      <td>79</td>\n",
       "      <td>654</td>\n",
       "    </tr>\n",
       "  </tbody>\n",
       "</table>\n",
       "</div>"
      ],
      "text/plain": [
       "       Review  Avg aspect/ review  Positive  Neutral  Negative  \\\n",
       "Train    3631            1.458276      3584      940       771   \n",
       "Val       454            1.389868       412      119       100   \n",
       "Test      454            1.440529       451      124        79   \n",
       "\n",
       "       Total sentiment  \n",
       "Train             5295  \n",
       "Val                631  \n",
       "Test               654  "
      ]
     },
     "execution_count": 17,
     "metadata": {},
     "output_type": "execute_result"
    }
   ],
   "source": [
    "def calculate_statistics(df):\n",
    "    num_reviews = len(df)\n",
    "    avg_aspects_per_review = df.iloc[:, :-1].astype(bool).sum(axis=1).mean()\n",
    "\n",
    "    positive_count = (df.iloc[:, :-1] == 3).sum().sum()\n",
    "    neutral_count = (df.iloc[:, :-1] == 2).sum().sum()\n",
    "    negative_count = (df.iloc[:, :-1] == 1).sum().sum()\n",
    "    total_sentiments = positive_count + neutral_count + negative_count\n",
    "\n",
    "    return [num_reviews, avg_aspects_per_review, positive_count, neutral_count, negative_count, total_sentiments]\n",
    "\n",
    "train_stats = calculate_statistics(data_train)\n",
    "dev_stats = calculate_statistics(data_val)\n",
    "test_stats = calculate_statistics(data_test)\n",
    "\n",
    "summary_df = pd.DataFrame(\n",
    "    [train_stats, dev_stats, test_stats],\n",
    "    columns=[\"Review\", \"Avg aspect/ review\", \"Positive\", \"Neutral\", \"Negative\", \"Total sentiment\"],\n",
    "    index=[\"Train\", \"Val\", \"Test\"]\n",
    ")\n",
    "\n",
    "summary_df"
   ]
  },
  {
   "cell_type": "code",
   "execution_count": null,
   "metadata": {},
   "outputs": [],
   "source": [
    "# Save to csv file\n",
    "data_train.to_csv('data_train.csv', index=False)\n",
    "data_val.to_csv('data_val.csv', index=False)\n",
    "data_test.to_csv('data_test.csv', index=False)"
   ]
  }
 ],
 "metadata": {
  "kernelspec": {
   "display_name": "base",
   "language": "python",
   "name": "python3"
  },
  "language_info": {
   "codemirror_mode": {
    "name": "ipython",
    "version": 3
   },
   "file_extension": ".py",
   "mimetype": "text/x-python",
   "name": "python",
   "nbconvert_exporter": "python",
   "pygments_lexer": "ipython3",
   "version": "3.11.7"
  }
 },
 "nbformat": 4,
 "nbformat_minor": 2
}
