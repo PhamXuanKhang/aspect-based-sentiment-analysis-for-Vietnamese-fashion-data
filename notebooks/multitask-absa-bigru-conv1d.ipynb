{
 "cells": [
  {
   "cell_type": "code",
   "execution_count": 1,
   "id": "eb43edfb",
   "metadata": {
    "execution": {
     "iopub.execute_input": "2024-10-29T07:07:39.080525Z",
     "iopub.status.busy": "2024-10-29T07:07:39.080212Z",
     "iopub.status.idle": "2024-10-29T07:07:51.685277Z",
     "shell.execute_reply": "2024-10-29T07:07:51.684176Z"
    },
    "papermill": {
     "duration": 12.617953,
     "end_time": "2024-10-29T07:07:51.687814",
     "exception": false,
     "start_time": "2024-10-29T07:07:39.069861",
     "status": "completed"
    },
    "tags": []
   },
   "outputs": [
    {
     "name": "stdout",
     "output_type": "stream",
     "text": [
      "Requirement already satisfied: keras-tuner in /opt/conda/lib/python3.10/site-packages (1.4.7)\r\n",
      "Requirement already satisfied: keras in /opt/conda/lib/python3.10/site-packages (from keras-tuner) (3.3.3)\r\n",
      "Requirement already satisfied: packaging in /opt/conda/lib/python3.10/site-packages (from keras-tuner) (21.3)\r\n",
      "Requirement already satisfied: requests in /opt/conda/lib/python3.10/site-packages (from keras-tuner) (2.32.3)\r\n",
      "Requirement already satisfied: kt-legacy in /opt/conda/lib/python3.10/site-packages (from keras-tuner) (1.0.5)\r\n",
      "Requirement already satisfied: absl-py in /opt/conda/lib/python3.10/site-packages (from keras->keras-tuner) (1.4.0)\r\n",
      "Requirement already satisfied: numpy in /opt/conda/lib/python3.10/site-packages (from keras->keras-tuner) (1.26.4)\r\n",
      "Requirement already satisfied: rich in /opt/conda/lib/python3.10/site-packages (from keras->keras-tuner) (13.7.1)\r\n",
      "Requirement already satisfied: namex in /opt/conda/lib/python3.10/site-packages (from keras->keras-tuner) (0.0.8)\r\n",
      "Requirement already satisfied: h5py in /opt/conda/lib/python3.10/site-packages (from keras->keras-tuner) (3.11.0)\r\n",
      "Requirement already satisfied: optree in /opt/conda/lib/python3.10/site-packages (from keras->keras-tuner) (0.11.0)\r\n",
      "Requirement already satisfied: ml-dtypes in /opt/conda/lib/python3.10/site-packages (from keras->keras-tuner) (0.3.2)\r\n",
      "Requirement already satisfied: pyparsing!=3.0.5,>=2.0.2 in /opt/conda/lib/python3.10/site-packages (from packaging->keras-tuner) (3.1.2)\r\n",
      "Requirement already satisfied: charset-normalizer<4,>=2 in /opt/conda/lib/python3.10/site-packages (from requests->keras-tuner) (3.3.2)\r\n",
      "Requirement already satisfied: idna<4,>=2.5 in /opt/conda/lib/python3.10/site-packages (from requests->keras-tuner) (3.7)\r\n",
      "Requirement already satisfied: urllib3<3,>=1.21.1 in /opt/conda/lib/python3.10/site-packages (from requests->keras-tuner) (1.26.18)\r\n",
      "Requirement already satisfied: certifi>=2017.4.17 in /opt/conda/lib/python3.10/site-packages (from requests->keras-tuner) (2024.8.30)\r\n",
      "Requirement already satisfied: typing-extensions>=4.0.0 in /opt/conda/lib/python3.10/site-packages (from optree->keras->keras-tuner) (4.12.2)\r\n",
      "Requirement already satisfied: markdown-it-py>=2.2.0 in /opt/conda/lib/python3.10/site-packages (from rich->keras->keras-tuner) (3.0.0)\r\n",
      "Requirement already satisfied: pygments<3.0.0,>=2.13.0 in /opt/conda/lib/python3.10/site-packages (from rich->keras->keras-tuner) (2.18.0)\r\n",
      "Requirement already satisfied: mdurl~=0.1 in /opt/conda/lib/python3.10/site-packages (from markdown-it-py>=2.2.0->rich->keras->keras-tuner) (0.1.2)\r\n"
     ]
    }
   ],
   "source": [
    "!pip install keras-tuner"
   ]
  },
  {
   "cell_type": "code",
   "execution_count": 2,
   "id": "8aaa5759",
   "metadata": {
    "execution": {
     "iopub.execute_input": "2024-10-29T07:07:51.708635Z",
     "iopub.status.busy": "2024-10-29T07:07:51.708110Z",
     "iopub.status.idle": "2024-10-29T07:08:08.319435Z",
     "shell.execute_reply": "2024-10-29T07:08:08.318583Z"
    },
    "executionInfo": {
     "elapsed": 14746,
     "status": "ok",
     "timestamp": 1718425907065,
     "user": {
      "displayName": "Dat Ngo",
      "userId": "13060706993402273291"
     },
     "user_tz": -420
    },
    "id": "i5N6vmCc0vmz",
    "papermill": {
     "duration": 16.623665,
     "end_time": "2024-10-29T07:08:08.322039",
     "exception": false,
     "start_time": "2024-10-29T07:07:51.698374",
     "status": "completed"
    },
    "tags": []
   },
   "outputs": [],
   "source": [
    "# import libraries\n",
    "import pandas as pd\n",
    "import numpy as np\n",
    "import matplotlib.pyplot as plt\n",
    "import re\n",
    "import tensorflow as tf\n",
    "from tensorflow.keras.layers import Input, Dense, Dropout, Concatenate\n",
    "from tensorflow.keras.layers import LSTM, Embedding, Bidirectional, GRU, TimeDistributed, RepeatVector\n",
    "from tensorflow.keras.layers import SpatialDropout1D, Conv1D, GlobalAveragePooling1D, GlobalMaxPooling1D\n",
    "from tensorflow.keras.initializers import Constant\n",
    "from tensorflow.keras.preprocessing.sequence import pad_sequences\n",
    "from tensorflow.keras.losses import BinaryCrossentropy, CategoricalCrossentropy\n",
    "from tensorflow.keras.utils import plot_model\n",
    "from tensorflow.keras.optimizers import Adam\n",
    "from tensorflow.keras.callbacks import EarlyStopping\n",
    "import keras_tuner as kt\n",
    "import pickle\n",
    "from sklearn.metrics import classification_report, f1_score\n",
    "from sklearn.utils.class_weight import compute_class_weight\n",
    "import torch\n",
    "from tqdm import tqdm\n",
    "import warnings\n",
    "warnings.filterwarnings('ignore')"
   ]
  },
  {
   "cell_type": "markdown",
   "id": "4bb54fe5",
   "metadata": {
    "papermill": {
     "duration": 0.008571,
     "end_time": "2024-10-29T07:08:08.339735",
     "exception": false,
     "start_time": "2024-10-29T07:08:08.331164",
     "status": "completed"
    },
    "tags": []
   },
   "source": [
    "## Load data"
   ]
  },
  {
   "cell_type": "code",
   "execution_count": 3,
   "id": "30b5b8e6",
   "metadata": {
    "execution": {
     "iopub.execute_input": "2024-10-29T07:08:08.359046Z",
     "iopub.status.busy": "2024-10-29T07:08:08.358443Z",
     "iopub.status.idle": "2024-10-29T07:08:08.423868Z",
     "shell.execute_reply": "2024-10-29T07:08:08.422995Z"
    },
    "executionInfo": {
     "elapsed": 1555,
     "status": "ok",
     "timestamp": 1718425908613,
     "user": {
      "displayName": "Dat Ngo",
      "userId": "13060706993402273291"
     },
     "user_tz": -420
    },
    "id": "lsToQ5v7GLVt",
    "papermill": {
     "duration": 0.077237,
     "end_time": "2024-10-29T07:08:08.425901",
     "exception": false,
     "start_time": "2024-10-29T07:08:08.348664",
     "status": "completed"
    },
    "tags": []
   },
   "outputs": [],
   "source": [
    "data_train = pd.read_csv('/kaggle/input/dataset/data_train.csv')\n",
    "data_val = pd.read_csv('/kaggle/input/dataset/data_val.csv')\n",
    "data_test = pd.read_csv('/kaggle/input/dataset/data_test.csv')"
   ]
  },
  {
   "cell_type": "code",
   "execution_count": 4,
   "id": "2005203d",
   "metadata": {
    "execution": {
     "iopub.execute_input": "2024-10-29T07:08:08.444670Z",
     "iopub.status.busy": "2024-10-29T07:08:08.444110Z",
     "iopub.status.idle": "2024-10-29T07:08:08.461340Z",
     "shell.execute_reply": "2024-10-29T07:08:08.460532Z"
    },
    "executionInfo": {
     "elapsed": 611,
     "status": "ok",
     "timestamp": 1718425909216,
     "user": {
      "displayName": "Dat Ngo",
      "userId": "13060706993402273291"
     },
     "user_tz": -420
    },
    "id": "K9fpbkeXGfjZ",
    "outputId": "6666d4f4-d778-47a9-a34c-f467c36492df",
    "papermill": {
     "duration": 0.028618,
     "end_time": "2024-10-29T07:08:08.463266",
     "exception": false,
     "start_time": "2024-10-29T07:08:08.434648",
     "status": "completed"
    },
    "tags": []
   },
   "outputs": [
    {
     "data": {
      "text/html": [
       "<div>\n",
       "<style scoped>\n",
       "    .dataframe tbody tr th:only-of-type {\n",
       "        vertical-align: middle;\n",
       "    }\n",
       "\n",
       "    .dataframe tbody tr th {\n",
       "        vertical-align: top;\n",
       "    }\n",
       "\n",
       "    .dataframe thead th {\n",
       "        text-align: right;\n",
       "    }\n",
       "</style>\n",
       "<table border=\"1\" class=\"dataframe\">\n",
       "  <thead>\n",
       "    <tr style=\"text-align: right;\">\n",
       "      <th></th>\n",
       "      <th>appearance</th>\n",
       "      <th>delivery</th>\n",
       "      <th>fabric_quality</th>\n",
       "      <th>others</th>\n",
       "      <th>packaging</th>\n",
       "      <th>price</th>\n",
       "      <th>service</th>\n",
       "      <th>size_fit</th>\n",
       "      <th>processed_text</th>\n",
       "    </tr>\n",
       "  </thead>\n",
       "  <tbody>\n",
       "    <tr>\n",
       "      <th>0</th>\n",
       "      <td>0</td>\n",
       "      <td>0</td>\n",
       "      <td>0</td>\n",
       "      <td>0</td>\n",
       "      <td>0</td>\n",
       "      <td>0</td>\n",
       "      <td>0</td>\n",
       "      <td>1</td>\n",
       "      <td>áo nhỏ hơn so với mô_tả</td>\n",
       "    </tr>\n",
       "    <tr>\n",
       "      <th>1</th>\n",
       "      <td>3</td>\n",
       "      <td>0</td>\n",
       "      <td>0</td>\n",
       "      <td>0</td>\n",
       "      <td>0</td>\n",
       "      <td>0</td>\n",
       "      <td>0</td>\n",
       "      <td>0</td>\n",
       "      <td>áo đẹp như mẫu luôn nha mọi người</td>\n",
       "    </tr>\n",
       "    <tr>\n",
       "      <th>2</th>\n",
       "      <td>0</td>\n",
       "      <td>3</td>\n",
       "      <td>0</td>\n",
       "      <td>2</td>\n",
       "      <td>0</td>\n",
       "      <td>0</td>\n",
       "      <td>0</td>\n",
       "      <td>0</td>\n",
       "      <td>rất hài_lòng sản_phẩm tốt shop giao đúng mẫu n...</td>\n",
       "    </tr>\n",
       "    <tr>\n",
       "      <th>3</th>\n",
       "      <td>0</td>\n",
       "      <td>0</td>\n",
       "      <td>0</td>\n",
       "      <td>0</td>\n",
       "      <td>0</td>\n",
       "      <td>0</td>\n",
       "      <td>0</td>\n",
       "      <td>3</td>\n",
       "      <td>nâng ngực ôm gọn bầu ngực mặc ok lắm</td>\n",
       "    </tr>\n",
       "    <tr>\n",
       "      <th>4</th>\n",
       "      <td>3</td>\n",
       "      <td>0</td>\n",
       "      <td>3</td>\n",
       "      <td>0</td>\n",
       "      <td>0</td>\n",
       "      <td>0</td>\n",
       "      <td>0</td>\n",
       "      <td>0</td>\n",
       "      <td>quần đẹp vải mát cho kiểm hàng kĩ rất hài_lòng...</td>\n",
       "    </tr>\n",
       "  </tbody>\n",
       "</table>\n",
       "</div>"
      ],
      "text/plain": [
       "   appearance  delivery  fabric_quality  others  packaging  price  service  \\\n",
       "0           0         0               0       0          0      0        0   \n",
       "1           3         0               0       0          0      0        0   \n",
       "2           0         3               0       2          0      0        0   \n",
       "3           0         0               0       0          0      0        0   \n",
       "4           3         0               3       0          0      0        0   \n",
       "\n",
       "   size_fit                                     processed_text  \n",
       "0         1                            áo nhỏ hơn so với mô_tả  \n",
       "1         0                  áo đẹp như mẫu luôn nha mọi người  \n",
       "2         0  rất hài_lòng sản_phẩm tốt shop giao đúng mẫu n...  \n",
       "3         3               nâng ngực ôm gọn bầu ngực mặc ok lắm  \n",
       "4         0  quần đẹp vải mát cho kiểm hàng kĩ rất hài_lòng...  "
      ]
     },
     "execution_count": 4,
     "metadata": {},
     "output_type": "execute_result"
    }
   ],
   "source": [
    "data_train.head()"
   ]
  },
  {
   "cell_type": "code",
   "execution_count": 5,
   "id": "6ba643de",
   "metadata": {
    "execution": {
     "iopub.execute_input": "2024-10-29T07:08:08.482771Z",
     "iopub.status.busy": "2024-10-29T07:08:08.482475Z",
     "iopub.status.idle": "2024-10-29T07:08:08.490619Z",
     "shell.execute_reply": "2024-10-29T07:08:08.489774Z"
    },
    "executionInfo": {
     "elapsed": 394,
     "status": "ok",
     "timestamp": 1718426066132,
     "user": {
      "displayName": "Dat Ngo",
      "userId": "13060706993402273291"
     },
     "user_tz": -420
    },
    "id": "Dl0VEQoXG_Fm",
    "papermill": {
     "duration": 0.020035,
     "end_time": "2024-10-29T07:08:08.492587",
     "exception": false,
     "start_time": "2024-10-29T07:08:08.472552",
     "status": "completed"
    },
    "tags": []
   },
   "outputs": [],
   "source": [
    "def make_outputs(df):\n",
    "    outputs = []\n",
    "    for row in range(len(df)):\n",
    "        row_one_hot = []\n",
    "        for col in range(0, len(df.columns)-1):\n",
    "            sentiment = df.iloc[row, col]\n",
    "            if   sentiment == 0: one_hot = [1, 0, 0, 0] # None\n",
    "            elif sentiment == 1: one_hot = [0, 1, 0, 0] # Pos\n",
    "            elif sentiment == 2: one_hot = [0, 0, 1, 0] # Neg\n",
    "            elif sentiment == 3: one_hot = [0, 0, 0, 1] # Neu\n",
    "            row_one_hot.append(one_hot)\n",
    "        outputs.append(row_one_hot)\n",
    "    return np.array(outputs, dtype='uint8')"
   ]
  },
  {
   "cell_type": "code",
   "execution_count": 6,
   "id": "04b7082f",
   "metadata": {
    "execution": {
     "iopub.execute_input": "2024-10-29T07:08:08.511463Z",
     "iopub.status.busy": "2024-10-29T07:08:08.511196Z",
     "iopub.status.idle": "2024-10-29T07:08:09.913532Z",
     "shell.execute_reply": "2024-10-29T07:08:09.912489Z"
    },
    "executionInfo": {
     "elapsed": 1768,
     "status": "ok",
     "timestamp": 1718426070865,
     "user": {
      "displayName": "Dat Ngo",
      "userId": "13060706993402273291"
     },
     "user_tz": -420
    },
    "id": "B4SAW1jcHTLJ",
    "outputId": "4e8eddb7-fd04-4896-b6cd-f4261a4b0fec",
    "papermill": {
     "duration": 1.414177,
     "end_time": "2024-10-29T07:08:09.915723",
     "exception": false,
     "start_time": "2024-10-29T07:08:08.501546",
     "status": "completed"
    },
    "tags": []
   },
   "outputs": [
    {
     "name": "stdout",
     "output_type": "stream",
     "text": [
      "Train outputs: (3631, 8, 4)\n",
      "Validate outputs: (454, 8, 4)\n",
      "Test outputs: (454, 8, 4)\n"
     ]
    }
   ],
   "source": [
    "label_train = make_outputs(data_train)\n",
    "label_val = make_outputs(data_val)\n",
    "label_test = make_outputs(data_test)\n",
    "\n",
    "print('Train outputs:', label_train.shape)\n",
    "print('Validate outputs:', label_val.shape)\n",
    "print('Test outputs:', label_test.shape)"
   ]
  },
  {
   "cell_type": "markdown",
   "id": "0d9951db",
   "metadata": {
    "papermill": {
     "duration": 0.008957,
     "end_time": "2024-10-29T07:08:09.934085",
     "exception": false,
     "start_time": "2024-10-29T07:08:09.925128",
     "status": "completed"
    },
    "tags": []
   },
   "source": [
    "## Load embedding data"
   ]
  },
  {
   "cell_type": "code",
   "execution_count": 7,
   "id": "e84f5839",
   "metadata": {
    "execution": {
     "iopub.execute_input": "2024-10-29T07:08:09.953378Z",
     "iopub.status.busy": "2024-10-29T07:08:09.952790Z",
     "iopub.status.idle": "2024-10-29T07:08:10.259839Z",
     "shell.execute_reply": "2024-10-29T07:08:10.258851Z"
    },
    "executionInfo": {
     "elapsed": 4725,
     "status": "ok",
     "timestamp": 1718426081585,
     "user": {
      "displayName": "Dat Ngo",
      "userId": "13060706993402273291"
     },
     "user_tz": -420
    },
    "id": "KvbESGyFHuJ-",
    "papermill": {
     "duration": 0.319098,
     "end_time": "2024-10-29T07:08:10.262125",
     "exception": false,
     "start_time": "2024-10-29T07:08:09.943027",
     "status": "completed"
    },
    "tags": []
   },
   "outputs": [],
   "source": [
    "embeddings = {}\n",
    "for state in ['train', 'val', 'test']:\n",
    "    embeddings[state] = np.load(f'/kaggle/input/embeddings/embeddings_{state}_PhoBert.npy', allow_pickle=True)\n",
    "    embeddings[state] = np.vstack(embeddings[state])"
   ]
  },
  {
   "cell_type": "code",
   "execution_count": 8,
   "id": "80b05db4",
   "metadata": {
    "execution": {
     "iopub.execute_input": "2024-10-29T07:08:10.282341Z",
     "iopub.status.busy": "2024-10-29T07:08:10.281576Z",
     "iopub.status.idle": "2024-10-29T07:08:10.286700Z",
     "shell.execute_reply": "2024-10-29T07:08:10.285876Z"
    },
    "executionInfo": {
     "elapsed": 8,
     "status": "ok",
     "timestamp": 1717254178878,
     "user": {
      "displayName": "Dat Ngo",
      "userId": "13060706993402273291"
     },
     "user_tz": -420
    },
    "id": "MTG4f3TKINtb",
    "outputId": "9aedb56a-f573-408f-b0a2-cd6d57bb158f",
    "papermill": {
     "duration": 0.01726,
     "end_time": "2024-10-29T07:08:10.288720",
     "exception": false,
     "start_time": "2024-10-29T07:08:10.271460",
     "status": "completed"
    },
    "tags": []
   },
   "outputs": [
    {
     "name": "stdout",
     "output_type": "stream",
     "text": [
      "Train inputs: (3631, 768)\n",
      "Validate inputs: (454, 768)\n",
      "Test intputs: (454, 768)\n"
     ]
    }
   ],
   "source": [
    "print('Train inputs:', embeddings['train'].shape)\n",
    "print('Validate inputs:', embeddings['val'].shape)\n",
    "print('Test intputs:', embeddings['test'].shape)"
   ]
  },
  {
   "cell_type": "code",
   "execution_count": 9,
   "id": "0753cb6b",
   "metadata": {
    "execution": {
     "iopub.execute_input": "2024-10-29T07:08:10.308394Z",
     "iopub.status.busy": "2024-10-29T07:08:10.308107Z",
     "iopub.status.idle": "2024-10-29T07:08:10.313858Z",
     "shell.execute_reply": "2024-10-29T07:08:10.313024Z"
    },
    "executionInfo": {
     "elapsed": 378,
     "status": "ok",
     "timestamp": 1718426096689,
     "user": {
      "displayName": "Dat Ngo",
      "userId": "13060706993402273291"
     },
     "user_tz": -420
    },
    "id": "-rRmHcORJqiW",
    "papermill": {
     "duration": 0.017821,
     "end_time": "2024-10-29T07:08:10.315691",
     "exception": false,
     "start_time": "2024-10-29T07:08:10.297870",
     "status": "completed"
    },
    "tags": []
   },
   "outputs": [
    {
     "data": {
      "text/plain": [
       "8"
      ]
     },
     "execution_count": 9,
     "metadata": {},
     "output_type": "execute_result"
    }
   ],
   "source": [
    "list_aspect = data_train.columns[:-1]\n",
    "len(list_aspect)"
   ]
  },
  {
   "cell_type": "markdown",
   "id": "7f0c6903",
   "metadata": {
    "id": "r90BtH2-c4uR",
    "papermill": {
     "duration": 0.009081,
     "end_time": "2024-10-29T07:08:10.333859",
     "exception": false,
     "start_time": "2024-10-29T07:08:10.324778",
     "status": "completed"
    },
    "tags": []
   },
   "source": [
    "## Bidirectional GRU and conv1D model"
   ]
  },
  {
   "cell_type": "code",
   "execution_count": 10,
   "id": "b3efc0cd",
   "metadata": {
    "execution": {
     "iopub.execute_input": "2024-10-29T07:08:10.353477Z",
     "iopub.status.busy": "2024-10-29T07:08:10.353217Z",
     "iopub.status.idle": "2024-10-29T07:08:10.357091Z",
     "shell.execute_reply": "2024-10-29T07:08:10.356280Z"
    },
    "papermill": {
     "duration": 0.015915,
     "end_time": "2024-10-29T07:08:10.359076",
     "exception": false,
     "start_time": "2024-10-29T07:08:10.343161",
     "status": "completed"
    },
    "tags": []
   },
   "outputs": [],
   "source": [
    "embedding_dim = 768\n",
    "num_aspects = 8\n",
    "output_dim = 4"
   ]
  },
  {
   "cell_type": "code",
   "execution_count": 11,
   "id": "ab3581a4",
   "metadata": {
    "execution": {
     "iopub.execute_input": "2024-10-29T07:08:10.379096Z",
     "iopub.status.busy": "2024-10-29T07:08:10.378570Z",
     "iopub.status.idle": "2024-10-29T07:08:10.387323Z",
     "shell.execute_reply": "2024-10-29T07:08:10.386546Z"
    },
    "executionInfo": {
     "elapsed": 36925,
     "status": "ok",
     "timestamp": 1718435024564,
     "user": {
      "displayName": "Dat Ngo",
      "userId": "13060706993402273291"
     },
     "user_tz": -420
    },
    "id": "MNs17JmPc6Oc",
    "outputId": "b67bab63-4009-4dd2-b97e-ed96b671838f",
    "papermill": {
     "duration": 0.020799,
     "end_time": "2024-10-29T07:08:10.389166",
     "exception": false,
     "start_time": "2024-10-29T07:08:10.368367",
     "status": "completed"
    },
    "tags": []
   },
   "outputs": [],
   "source": [
    "def bigru_conv(hp):    \n",
    "    # Hyperparameters to tune\n",
    "    units = hp.Choice('units', [100, 200, 300])\n",
    "    learning_rate = hp.Choice('learning_rate', [0.0001, 0.0002, 0.0005])\n",
    "    dropout_rate = hp.Choice('dropout_rate', [0.1, 0.2, 0.3])\n",
    "    \n",
    "    # Define input layer\n",
    "    input_layer = Input(shape=(embedding_dim,))\n",
    "\n",
    "    # Expand dimensions to match the input shape requirement of the GRU\n",
    "    input_expanded = RepeatVector(num_aspects)(input_layer)\n",
    "\n",
    "    # Define Bidirectional GRU layer\n",
    "    lstm_layer = Bidirectional(GRU(units=units, activation='tanh', return_sequences=True))(input_expanded)\n",
    "\n",
    "    # Adding a Conv1D layer after GRU\n",
    "    conv_layer = Conv1D(filters=64, kernel_size=3, padding='same', activation='relu')(lstm_layer)\n",
    "\n",
    "    # TimeDistributed layer to apply Dense layers across all time steps\n",
    "    aspect_dense2 = TimeDistributed(Dense(128, activation='relu'))(conv_layer)\n",
    "    aspect_dropout1 = TimeDistributed(Dropout(dropout_rate))(aspect_dense2)\n",
    "    aspect_dense3 = TimeDistributed(Dense(64, activation='relu'))(aspect_dropout1)\n",
    "    aspect_dense4 = TimeDistributed(Dense(32, activation='relu'))(aspect_dense3)\n",
    "\n",
    "    # Output layer: num_aspects * output_dim units corresponding to 8 aspects with 4 categories each\n",
    "    aspect_dense5 = TimeDistributed(Dense(units=4, activation='softmax'))(aspect_dense4)\n",
    "\n",
    "    # Define and compile the model\n",
    "    aspect_model = tf.keras.Model(inputs=input_layer, outputs=aspect_dense5)\n",
    "    aspect_model.compile(optimizer=Adam(learning_rate=learning_rate), loss='categorical_crossentropy', metrics=['accuracy'])\n",
    "\n",
    "    return aspect_model"
   ]
  },
  {
   "cell_type": "markdown",
   "id": "9c091408",
   "metadata": {
    "papermill": {
     "duration": 0.00889,
     "end_time": "2024-10-29T07:08:10.407183",
     "exception": false,
     "start_time": "2024-10-29T07:08:10.398293",
     "status": "completed"
    },
    "tags": []
   },
   "source": [
    "## Hypeparameter tuning"
   ]
  },
  {
   "cell_type": "code",
   "execution_count": 12,
   "id": "bc711067",
   "metadata": {
    "execution": {
     "iopub.execute_input": "2024-10-29T07:08:10.426805Z",
     "iopub.status.busy": "2024-10-29T07:08:10.426133Z",
     "iopub.status.idle": "2024-10-29T07:13:34.950609Z",
     "shell.execute_reply": "2024-10-29T07:13:34.949576Z"
    },
    "papermill": {
     "duration": 324.536337,
     "end_time": "2024-10-29T07:13:34.952603",
     "exception": false,
     "start_time": "2024-10-29T07:08:10.416266",
     "status": "completed"
    },
    "tags": []
   },
   "outputs": [
    {
     "name": "stdout",
     "output_type": "stream",
     "text": [
      "Trial 10 Complete [00h 00m 28s]\n",
      "val_loss: 0.2777378559112549\n",
      "\n",
      "Best val_loss So Far: 0.2718938887119293\n",
      "Total elapsed time: 00h 05m 23s\n"
     ]
    }
   ],
   "source": [
    "tuner = kt.RandomSearch(\n",
    "    bigru_conv,\n",
    "    objective='val_loss',\n",
    "    max_trials=10,\n",
    "    executions_per_trial=1,\n",
    "    directory='/kaggle/working',\n",
    "    project_name='ASBA_model'\n",
    ")\n",
    "\n",
    "padded_aspect_train = embeddings['train']\n",
    "padded_aspect_val = embeddings['val']\n",
    "label_aspect_train = label_train\n",
    "label_aspect_val = label_val\n",
    "                                      \n",
    "tuner.search(padded_aspect_train, label_aspect_train, \n",
    "             validation_data=(padded_aspect_val, label_aspect_val), \n",
    "             epochs=100, \n",
    "             callbacks=[tf.keras.callbacks.EarlyStopping(monitor='val_loss', patience=5)])"
   ]
  },
  {
   "cell_type": "code",
   "execution_count": 13,
   "id": "f6a7ce52",
   "metadata": {
    "execution": {
     "iopub.execute_input": "2024-10-29T07:13:34.973436Z",
     "iopub.status.busy": "2024-10-29T07:13:34.972689Z",
     "iopub.status.idle": "2024-10-29T07:13:36.165981Z",
     "shell.execute_reply": "2024-10-29T07:13:36.165053Z"
    },
    "papermill": {
     "duration": 1.205843,
     "end_time": "2024-10-29T07:13:36.168153",
     "exception": false,
     "start_time": "2024-10-29T07:13:34.962310",
     "status": "completed"
    },
    "tags": []
   },
   "outputs": [
    {
     "name": "stdout",
     "output_type": "stream",
     "text": [
      "Best Hyperparameters: {'units': 300, 'learning_rate': 0.0001, 'dropout_rate': 0.3}\n"
     ]
    }
   ],
   "source": [
    "model_gru_conv = tuner.get_best_models(num_models=1)[0]\n",
    "best_hyperparameters = tuner.get_best_hyperparameters(num_trials=1)[0]\n",
    "\n",
    "print(\"Best Hyperparameters:\", best_hyperparameters.values)"
   ]
  },
  {
   "cell_type": "code",
   "execution_count": 14,
   "id": "f9ec113b",
   "metadata": {
    "execution": {
     "iopub.execute_input": "2024-10-29T07:13:36.188386Z",
     "iopub.status.busy": "2024-10-29T07:13:36.188093Z",
     "iopub.status.idle": "2024-10-29T07:13:36.212116Z",
     "shell.execute_reply": "2024-10-29T07:13:36.211183Z"
    },
    "papermill": {
     "duration": 0.036096,
     "end_time": "2024-10-29T07:13:36.213928",
     "exception": false,
     "start_time": "2024-10-29T07:13:36.177832",
     "status": "completed"
    },
    "tags": []
   },
   "outputs": [
    {
     "data": {
      "text/html": [
       "<pre style=\"white-space:pre;overflow-x:auto;line-height:normal;font-family:Menlo,'DejaVu Sans Mono',consolas,'Courier New',monospace\"><span style=\"font-weight: bold\">Model: \"functional_1\"</span>\n",
       "</pre>\n"
      ],
      "text/plain": [
       "\u001b[1mModel: \"functional_1\"\u001b[0m\n"
      ]
     },
     "metadata": {},
     "output_type": "display_data"
    },
    {
     "data": {
      "text/html": [
       "<pre style=\"white-space:pre;overflow-x:auto;line-height:normal;font-family:Menlo,'DejaVu Sans Mono',consolas,'Courier New',monospace\">┏━━━━━━━━━━━━━━━━━━━━━━━━━━━━━━━━━┳━━━━━━━━━━━━━━━━━━━━━━━━┳━━━━━━━━━━━━━━━┓\n",
       "┃<span style=\"font-weight: bold\"> Layer (type)                    </span>┃<span style=\"font-weight: bold\"> Output Shape           </span>┃<span style=\"font-weight: bold\">       Param # </span>┃\n",
       "┡━━━━━━━━━━━━━━━━━━━━━━━━━━━━━━━━━╇━━━━━━━━━━━━━━━━━━━━━━━━╇━━━━━━━━━━━━━━━┩\n",
       "│ input_layer (<span style=\"color: #0087ff; text-decoration-color: #0087ff\">InputLayer</span>)        │ (<span style=\"color: #00d7ff; text-decoration-color: #00d7ff\">None</span>, <span style=\"color: #00af00; text-decoration-color: #00af00\">768</span>)            │             <span style=\"color: #00af00; text-decoration-color: #00af00\">0</span> │\n",
       "├─────────────────────────────────┼────────────────────────┼───────────────┤\n",
       "│ repeat_vector (<span style=\"color: #0087ff; text-decoration-color: #0087ff\">RepeatVector</span>)    │ (<span style=\"color: #00d7ff; text-decoration-color: #00d7ff\">None</span>, <span style=\"color: #00af00; text-decoration-color: #00af00\">8</span>, <span style=\"color: #00af00; text-decoration-color: #00af00\">768</span>)         │             <span style=\"color: #00af00; text-decoration-color: #00af00\">0</span> │\n",
       "├─────────────────────────────────┼────────────────────────┼───────────────┤\n",
       "│ bidirectional (<span style=\"color: #0087ff; text-decoration-color: #0087ff\">Bidirectional</span>)   │ (<span style=\"color: #00d7ff; text-decoration-color: #00d7ff\">None</span>, <span style=\"color: #00af00; text-decoration-color: #00af00\">8</span>, <span style=\"color: #00af00; text-decoration-color: #00af00\">600</span>)         │     <span style=\"color: #00af00; text-decoration-color: #00af00\">1,926,000</span> │\n",
       "├─────────────────────────────────┼────────────────────────┼───────────────┤\n",
       "│ conv1d (<span style=\"color: #0087ff; text-decoration-color: #0087ff\">Conv1D</span>)                 │ (<span style=\"color: #00d7ff; text-decoration-color: #00d7ff\">None</span>, <span style=\"color: #00af00; text-decoration-color: #00af00\">8</span>, <span style=\"color: #00af00; text-decoration-color: #00af00\">64</span>)          │       <span style=\"color: #00af00; text-decoration-color: #00af00\">115,264</span> │\n",
       "├─────────────────────────────────┼────────────────────────┼───────────────┤\n",
       "│ time_distributed                │ (<span style=\"color: #00d7ff; text-decoration-color: #00d7ff\">None</span>, <span style=\"color: #00af00; text-decoration-color: #00af00\">8</span>, <span style=\"color: #00af00; text-decoration-color: #00af00\">128</span>)         │         <span style=\"color: #00af00; text-decoration-color: #00af00\">8,320</span> │\n",
       "│ (<span style=\"color: #0087ff; text-decoration-color: #0087ff\">TimeDistributed</span>)               │                        │               │\n",
       "├─────────────────────────────────┼────────────────────────┼───────────────┤\n",
       "│ time_distributed_1              │ (<span style=\"color: #00d7ff; text-decoration-color: #00d7ff\">None</span>, <span style=\"color: #00af00; text-decoration-color: #00af00\">8</span>, <span style=\"color: #00af00; text-decoration-color: #00af00\">128</span>)         │             <span style=\"color: #00af00; text-decoration-color: #00af00\">0</span> │\n",
       "│ (<span style=\"color: #0087ff; text-decoration-color: #0087ff\">TimeDistributed</span>)               │                        │               │\n",
       "├─────────────────────────────────┼────────────────────────┼───────────────┤\n",
       "│ time_distributed_2              │ (<span style=\"color: #00d7ff; text-decoration-color: #00d7ff\">None</span>, <span style=\"color: #00af00; text-decoration-color: #00af00\">8</span>, <span style=\"color: #00af00; text-decoration-color: #00af00\">64</span>)          │         <span style=\"color: #00af00; text-decoration-color: #00af00\">8,256</span> │\n",
       "│ (<span style=\"color: #0087ff; text-decoration-color: #0087ff\">TimeDistributed</span>)               │                        │               │\n",
       "├─────────────────────────────────┼────────────────────────┼───────────────┤\n",
       "│ time_distributed_3              │ (<span style=\"color: #00d7ff; text-decoration-color: #00d7ff\">None</span>, <span style=\"color: #00af00; text-decoration-color: #00af00\">8</span>, <span style=\"color: #00af00; text-decoration-color: #00af00\">32</span>)          │         <span style=\"color: #00af00; text-decoration-color: #00af00\">2,080</span> │\n",
       "│ (<span style=\"color: #0087ff; text-decoration-color: #0087ff\">TimeDistributed</span>)               │                        │               │\n",
       "├─────────────────────────────────┼────────────────────────┼───────────────┤\n",
       "│ time_distributed_4              │ (<span style=\"color: #00d7ff; text-decoration-color: #00d7ff\">None</span>, <span style=\"color: #00af00; text-decoration-color: #00af00\">8</span>, <span style=\"color: #00af00; text-decoration-color: #00af00\">4</span>)           │           <span style=\"color: #00af00; text-decoration-color: #00af00\">132</span> │\n",
       "│ (<span style=\"color: #0087ff; text-decoration-color: #0087ff\">TimeDistributed</span>)               │                        │               │\n",
       "└─────────────────────────────────┴────────────────────────┴───────────────┘\n",
       "</pre>\n"
      ],
      "text/plain": [
       "┏━━━━━━━━━━━━━━━━━━━━━━━━━━━━━━━━━┳━━━━━━━━━━━━━━━━━━━━━━━━┳━━━━━━━━━━━━━━━┓\n",
       "┃\u001b[1m \u001b[0m\u001b[1mLayer (type)                   \u001b[0m\u001b[1m \u001b[0m┃\u001b[1m \u001b[0m\u001b[1mOutput Shape          \u001b[0m\u001b[1m \u001b[0m┃\u001b[1m \u001b[0m\u001b[1m      Param #\u001b[0m\u001b[1m \u001b[0m┃\n",
       "┡━━━━━━━━━━━━━━━━━━━━━━━━━━━━━━━━━╇━━━━━━━━━━━━━━━━━━━━━━━━╇━━━━━━━━━━━━━━━┩\n",
       "│ input_layer (\u001b[38;5;33mInputLayer\u001b[0m)        │ (\u001b[38;5;45mNone\u001b[0m, \u001b[38;5;34m768\u001b[0m)            │             \u001b[38;5;34m0\u001b[0m │\n",
       "├─────────────────────────────────┼────────────────────────┼───────────────┤\n",
       "│ repeat_vector (\u001b[38;5;33mRepeatVector\u001b[0m)    │ (\u001b[38;5;45mNone\u001b[0m, \u001b[38;5;34m8\u001b[0m, \u001b[38;5;34m768\u001b[0m)         │             \u001b[38;5;34m0\u001b[0m │\n",
       "├─────────────────────────────────┼────────────────────────┼───────────────┤\n",
       "│ bidirectional (\u001b[38;5;33mBidirectional\u001b[0m)   │ (\u001b[38;5;45mNone\u001b[0m, \u001b[38;5;34m8\u001b[0m, \u001b[38;5;34m600\u001b[0m)         │     \u001b[38;5;34m1,926,000\u001b[0m │\n",
       "├─────────────────────────────────┼────────────────────────┼───────────────┤\n",
       "│ conv1d (\u001b[38;5;33mConv1D\u001b[0m)                 │ (\u001b[38;5;45mNone\u001b[0m, \u001b[38;5;34m8\u001b[0m, \u001b[38;5;34m64\u001b[0m)          │       \u001b[38;5;34m115,264\u001b[0m │\n",
       "├─────────────────────────────────┼────────────────────────┼───────────────┤\n",
       "│ time_distributed                │ (\u001b[38;5;45mNone\u001b[0m, \u001b[38;5;34m8\u001b[0m, \u001b[38;5;34m128\u001b[0m)         │         \u001b[38;5;34m8,320\u001b[0m │\n",
       "│ (\u001b[38;5;33mTimeDistributed\u001b[0m)               │                        │               │\n",
       "├─────────────────────────────────┼────────────────────────┼───────────────┤\n",
       "│ time_distributed_1              │ (\u001b[38;5;45mNone\u001b[0m, \u001b[38;5;34m8\u001b[0m, \u001b[38;5;34m128\u001b[0m)         │             \u001b[38;5;34m0\u001b[0m │\n",
       "│ (\u001b[38;5;33mTimeDistributed\u001b[0m)               │                        │               │\n",
       "├─────────────────────────────────┼────────────────────────┼───────────────┤\n",
       "│ time_distributed_2              │ (\u001b[38;5;45mNone\u001b[0m, \u001b[38;5;34m8\u001b[0m, \u001b[38;5;34m64\u001b[0m)          │         \u001b[38;5;34m8,256\u001b[0m │\n",
       "│ (\u001b[38;5;33mTimeDistributed\u001b[0m)               │                        │               │\n",
       "├─────────────────────────────────┼────────────────────────┼───────────────┤\n",
       "│ time_distributed_3              │ (\u001b[38;5;45mNone\u001b[0m, \u001b[38;5;34m8\u001b[0m, \u001b[38;5;34m32\u001b[0m)          │         \u001b[38;5;34m2,080\u001b[0m │\n",
       "│ (\u001b[38;5;33mTimeDistributed\u001b[0m)               │                        │               │\n",
       "├─────────────────────────────────┼────────────────────────┼───────────────┤\n",
       "│ time_distributed_4              │ (\u001b[38;5;45mNone\u001b[0m, \u001b[38;5;34m8\u001b[0m, \u001b[38;5;34m4\u001b[0m)           │           \u001b[38;5;34m132\u001b[0m │\n",
       "│ (\u001b[38;5;33mTimeDistributed\u001b[0m)               │                        │               │\n",
       "└─────────────────────────────────┴────────────────────────┴───────────────┘\n"
      ]
     },
     "metadata": {},
     "output_type": "display_data"
    },
    {
     "data": {
      "text/html": [
       "<pre style=\"white-space:pre;overflow-x:auto;line-height:normal;font-family:Menlo,'DejaVu Sans Mono',consolas,'Courier New',monospace\"><span style=\"font-weight: bold\"> Total params: </span><span style=\"color: #00af00; text-decoration-color: #00af00\">2,060,052</span> (7.86 MB)\n",
       "</pre>\n"
      ],
      "text/plain": [
       "\u001b[1m Total params: \u001b[0m\u001b[38;5;34m2,060,052\u001b[0m (7.86 MB)\n"
      ]
     },
     "metadata": {},
     "output_type": "display_data"
    },
    {
     "data": {
      "text/html": [
       "<pre style=\"white-space:pre;overflow-x:auto;line-height:normal;font-family:Menlo,'DejaVu Sans Mono',consolas,'Courier New',monospace\"><span style=\"font-weight: bold\"> Trainable params: </span><span style=\"color: #00af00; text-decoration-color: #00af00\">2,060,052</span> (7.86 MB)\n",
       "</pre>\n"
      ],
      "text/plain": [
       "\u001b[1m Trainable params: \u001b[0m\u001b[38;5;34m2,060,052\u001b[0m (7.86 MB)\n"
      ]
     },
     "metadata": {},
     "output_type": "display_data"
    },
    {
     "data": {
      "text/html": [
       "<pre style=\"white-space:pre;overflow-x:auto;line-height:normal;font-family:Menlo,'DejaVu Sans Mono',consolas,'Courier New',monospace\"><span style=\"font-weight: bold\"> Non-trainable params: </span><span style=\"color: #00af00; text-decoration-color: #00af00\">0</span> (0.00 B)\n",
       "</pre>\n"
      ],
      "text/plain": [
       "\u001b[1m Non-trainable params: \u001b[0m\u001b[38;5;34m0\u001b[0m (0.00 B)\n"
      ]
     },
     "metadata": {},
     "output_type": "display_data"
    }
   ],
   "source": [
    "model_gru_conv.summary()"
   ]
  },
  {
   "cell_type": "code",
   "execution_count": 15,
   "id": "ba05e9aa",
   "metadata": {
    "execution": {
     "iopub.execute_input": "2024-10-29T07:13:36.235496Z",
     "iopub.status.busy": "2024-10-29T07:13:36.235215Z",
     "iopub.status.idle": "2024-10-29T07:13:37.612705Z",
     "shell.execute_reply": "2024-10-29T07:13:37.611770Z"
    },
    "papermill": {
     "duration": 1.39115,
     "end_time": "2024-10-29T07:13:37.615370",
     "exception": false,
     "start_time": "2024-10-29T07:13:36.224220",
     "status": "completed"
    },
    "tags": []
   },
   "outputs": [
    {
     "data": {
      "image/png": "[encoded data removed]",
      "text/plain": [
       "<Figure size 1000x1000 with 1 Axes>"
      ]
     },
     "metadata": {},
     "output_type": "display_data"
    }
   ],
   "source": [
    "# Model architecture\n",
    "plot_model(model_gru_conv, to_file='/kaggle/working/model_architecture.png', show_shapes=True, show_layer_names=True)\n",
    "\n",
    "img = plt.imread('/kaggle/working/model_architecture.png')\n",
    "plt.figure(figsize=(10, 10))\n",
    "plt.imshow(img)\n",
    "plt.title('Model Architecture')\n",
    "plt.axis('off')\n",
    "plt.show()"
   ]
  },
  {
   "cell_type": "code",
   "execution_count": 16,
   "id": "a7de4235",
   "metadata": {
    "execution": {
     "iopub.execute_input": "2024-10-29T07:13:37.641120Z",
     "iopub.status.busy": "2024-10-29T07:13:37.640805Z",
     "iopub.status.idle": "2024-10-29T07:13:37.691453Z",
     "shell.execute_reply": "2024-10-29T07:13:37.690710Z"
    },
    "papermill": {
     "duration": 0.065666,
     "end_time": "2024-10-29T07:13:37.693454",
     "exception": false,
     "start_time": "2024-10-29T07:13:37.627788",
     "status": "completed"
    },
    "tags": []
   },
   "outputs": [],
   "source": [
    "# save model\n",
    "model_gru_conv.save('/kaggle/working/best_model.h5')"
   ]
  },
  {
   "cell_type": "markdown",
   "id": "91396c8a",
   "metadata": {
    "papermill": {
     "duration": 0.011744,
     "end_time": "2024-10-29T07:13:37.717421",
     "exception": false,
     "start_time": "2024-10-29T07:13:37.705677",
     "status": "completed"
    },
    "tags": []
   },
   "source": [
    "## Result and evaluation"
   ]
  },
  {
   "cell_type": "code",
   "execution_count": 17,
   "id": "793eb8ed",
   "metadata": {
    "execution": {
     "iopub.execute_input": "2024-10-29T07:13:37.742541Z",
     "iopub.status.busy": "2024-10-29T07:13:37.742225Z",
     "iopub.status.idle": "2024-10-29T07:13:37.748291Z",
     "shell.execute_reply": "2024-10-29T07:13:37.747558Z"
    },
    "papermill": {
     "duration": 0.020768,
     "end_time": "2024-10-29T07:13:37.750165",
     "exception": false,
     "start_time": "2024-10-29T07:13:37.729397",
     "status": "completed"
    },
    "tags": []
   },
   "outputs": [],
   "source": [
    "def predict(model, inputs, batch_size=1, verbose=0):\n",
    "    y_pred = model.predict(inputs, batch_size=batch_size, verbose=verbose)\n",
    "    y_pred = y_pred.reshape(len(y_pred), -1, 4)\n",
    "    return np.argmax(y_pred, axis=-1)\n",
    "def print_acsa_pred(replacements, categories, sentence_pred):\n",
    "    sentiments = map(lambda x: replacements[x], sentence_pred)\n",
    "    for category, sentiment in zip(categories, sentiments):\n",
    "        if sentiment: print(f'=> {category}: {sentiment}')"
   ]
  },
  {
   "cell_type": "code",
   "execution_count": 18,
   "id": "caf7ecfd",
   "metadata": {
    "execution": {
     "iopub.execute_input": "2024-10-29T07:13:37.774896Z",
     "iopub.status.busy": "2024-10-29T07:13:37.774590Z",
     "iopub.status.idle": "2024-10-29T07:13:38.964622Z",
     "shell.execute_reply": "2024-10-29T07:13:38.963460Z"
    },
    "executionInfo": {
     "elapsed": 8963,
     "status": "ok",
     "timestamp": 1718435034738,
     "user": {
      "displayName": "Dat Ngo",
      "userId": "13060706993402273291"
     },
     "user_tz": -420
    },
    "id": "BuhZR66Oc77C",
    "outputId": "086510eb-4b27-4e71-a4ee-9a554bc1bb1f",
    "papermill": {
     "duration": 1.204847,
     "end_time": "2024-10-29T07:13:38.966876",
     "exception": false,
     "start_time": "2024-10-29T07:13:37.762029",
     "status": "completed"
    },
    "tags": []
   },
   "outputs": [
    {
     "name": "stdout",
     "output_type": "stream",
     "text": [
      "\u001b[1m15/15\u001b[0m \u001b[32m━━━━━━━━━━━━━━━━━━━━\u001b[0m\u001b[37m\u001b[0m \u001b[1m1s\u001b[0m 38ms/step\n",
      "appearance:\n",
      "              precision  recall  f1-score  support      Aspect\n",
      "None               0.88    0.84      0.86   271.00  appearance\n",
      "Negative           0.41    0.53      0.46    17.00  appearance\n",
      "Neutral            0.00    0.00      0.00     8.00  appearance\n",
      "Positive           0.79    0.87      0.83   158.00  appearance\n",
      "accuracy           0.82    0.82      0.82     0.82  appearance\n",
      "macro avg          0.52    0.56      0.54   454.00  appearance\n",
      "weighted avg       0.81    0.82      0.82   454.00  appearance\n",
      "--------------------------------------------------------------------------------\n",
      "delivery:\n",
      "              precision  recall  f1-score  support    Aspect\n",
      "None               1.00    0.98      0.99    393.0  delivery\n",
      "Negative           1.00    0.33      0.50      3.0  delivery\n",
      "Neutral            0.00    0.00      0.00      0.0  delivery\n",
      "Positive           0.84    0.98      0.90     58.0  delivery\n",
      "micro avg          0.97    0.97      0.97    454.0  delivery\n",
      "macro avg          0.71    0.57      0.60    454.0  delivery\n",
      "weighted avg       0.98    0.97      0.97    454.0  delivery\n",
      "--------------------------------------------------------------------------------\n",
      "fabric_quality:\n",
      "              precision  recall  f1-score  support          Aspect\n",
      "None               0.89    0.87      0.88   275.00  fabric_quality\n",
      "Negative           0.41    0.62      0.49    21.00  fabric_quality\n",
      "Neutral            0.00    0.00      0.00    12.00  fabric_quality\n",
      "Positive           0.80    0.83      0.81   146.00  fabric_quality\n",
      "accuracy           0.82    0.82      0.82     0.82  fabric_quality\n",
      "macro avg          0.52    0.58      0.55   454.00  fabric_quality\n",
      "weighted avg       0.81    0.82      0.82   454.00  fabric_quality\n",
      "--------------------------------------------------------------------------------\n",
      "others:\n",
      "              precision  recall  f1-score  support  Aspect\n",
      "None               0.93    0.93      0.93    357.0  others\n",
      "Negative           0.00    0.00      0.00      0.0  others\n",
      "Neutral            0.74    0.74      0.74     97.0  others\n",
      "Positive           0.00    0.00      0.00      0.0  others\n",
      "micro avg          0.89    0.89      0.89    454.0  others\n",
      "macro avg          0.42    0.42      0.42    454.0  others\n",
      "weighted avg       0.89    0.89      0.89    454.0  others\n",
      "--------------------------------------------------------------------------------\n",
      "packaging:\n",
      "              precision  recall  f1-score  support     Aspect\n",
      "None               0.99    0.99      0.99    436.0  packaging\n",
      "Negative           0.00    0.00      0.00      0.0  packaging\n",
      "Neutral            0.00    0.00      0.00      0.0  packaging\n",
      "Positive           0.71    0.67      0.69     18.0  packaging\n",
      "micro avg          0.98    0.98      0.98    454.0  packaging\n",
      "macro avg          0.42    0.41      0.42    454.0  packaging\n",
      "weighted avg       0.98    0.98      0.98    454.0  packaging\n",
      "--------------------------------------------------------------------------------\n",
      "price:\n",
      "              precision  recall  f1-score  support Aspect\n",
      "None               0.95    1.00      0.97   416.00  price\n",
      "Negative           1.00    0.25      0.40     4.00  price\n",
      "Neutral            0.00    0.00      0.00     3.00  price\n",
      "Positive           0.88    0.48      0.62    31.00  price\n",
      "accuracy           0.95    0.95      0.95     0.95  price\n",
      "macro avg          0.71    0.43      0.50   454.00  price\n",
      "weighted avg       0.94    0.95      0.94   454.00  price\n",
      "--------------------------------------------------------------------------------\n",
      "service:\n",
      "              precision  recall  f1-score  support   Aspect\n",
      "None               0.97    0.99      0.98   437.00  service\n",
      "Negative           1.00    0.12      0.22     8.00  service\n",
      "Neutral            0.00    0.00      0.00     1.00  service\n",
      "Positive           0.50    0.38      0.43     8.00  service\n",
      "accuracy           0.96    0.96      0.96     0.96  service\n",
      "macro avg          0.62    0.37      0.41   454.00  service\n",
      "weighted avg       0.96    0.96      0.96   454.00  service\n",
      "--------------------------------------------------------------------------------\n",
      "size_fit:\n",
      "              precision  recall  f1-score  support    Aspect\n",
      "None               0.93    0.97      0.95   393.00  size_fit\n",
      "Negative           0.64    0.69      0.67    26.00  size_fit\n",
      "Neutral            0.00    0.00      0.00     3.00  size_fit\n",
      "Positive           0.44    0.25      0.32    32.00  size_fit\n",
      "accuracy           0.89    0.89      0.89     0.89  size_fit\n",
      "macro avg          0.50    0.48      0.48   454.00  size_fit\n",
      "weighted avg       0.87    0.89      0.88   454.00  size_fit\n",
      "--------------------------------------------------------------------------------\n"
     ]
    }
   ],
   "source": [
    "predictions = model_gru_conv.predict(embeddings['test'])\n",
    "\n",
    "# Convert predictions to class labels\n",
    "predicted_labels = np.argmax(predictions, axis=-1)\n",
    "true_labels = np.argmax(label_test, axis=-1)\n",
    "\n",
    "# Evaluate the model and store the results in a DataFrame\n",
    "output_GRU_conv = pd.DataFrame()\n",
    "for i in range(num_aspects):\n",
    "    aspect_name = data_train.columns[i]\n",
    "    print(f\"{aspect_name}:\")\n",
    "    report = classification_report(true_labels[:, i], predicted_labels[:, i], labels=[0, 1, 2, 3], target_names=['None', 'Negative', 'Neutral', 'Positive'], output_dict=True, zero_division=0)\n",
    "\n",
    "    # Create a DataFrame from the report\n",
    "    aspect_report_df = pd.DataFrame(report).transpose()\n",
    "    aspect_report_df['Aspect'] = aspect_name  # Add a column for the aspect name\n",
    "\n",
    "    # Append the report for this aspect to the main DataFrame\n",
    "    output_GRU_conv = pd.concat([output_GRU_conv, aspect_report_df], ignore_index=False)\n",
    "\n",
    "    # If you want to print the classification report as well\n",
    "    print(aspect_report_df.round(2))\n",
    "    print('-'*80)"
   ]
  },
  {
   "cell_type": "code",
   "execution_count": 19,
   "id": "2e2437b7",
   "metadata": {
    "execution": {
     "iopub.execute_input": "2024-10-29T07:13:38.993847Z",
     "iopub.status.busy": "2024-10-29T07:13:38.993532Z",
     "iopub.status.idle": "2024-10-29T07:13:41.900023Z",
     "shell.execute_reply": "2024-10-29T07:13:41.898987Z"
    },
    "papermill": {
     "duration": 2.922797,
     "end_time": "2024-10-29T07:13:41.902345",
     "exception": false,
     "start_time": "2024-10-29T07:13:38.979548",
     "status": "completed"
    },
    "tags": []
   },
   "outputs": [
    {
     "name": "stdout",
     "output_type": "stream",
     "text": [
      "\u001b[1m454/454\u001b[0m \u001b[32m━━━━━━━━━━━━━━━━━━━━\u001b[0m\u001b[37m\u001b[0m \u001b[1m1s\u001b[0m 3ms/step\n",
      "\u001b[1m15/15\u001b[0m \u001b[32m━━━━━━━━━━━━━━━━━━━━\u001b[0m\u001b[37m\u001b[0m \u001b[1m1s\u001b[0m 5ms/step - accuracy: 0.9140 - loss: 0.2425\n"
     ]
    },
    {
     "data": {
      "text/plain": [
       "[0.25365355610847473, 0.9113436341285706]"
      ]
     },
     "execution_count": 19,
     "metadata": {},
     "output_type": "execute_result"
    }
   ],
   "source": [
    "y_pred_gru_conv = predict(model_gru_conv, embeddings['test'], verbose=1)\n",
    "model_gru_conv.evaluate(embeddings['test'], label_test, verbose=1)"
   ]
  },
  {
   "cell_type": "code",
   "execution_count": 20,
   "id": "d0480879",
   "metadata": {
    "execution": {
     "iopub.execute_input": "2024-10-29T07:13:41.938980Z",
     "iopub.status.busy": "2024-10-29T07:13:41.938585Z",
     "iopub.status.idle": "2024-10-29T07:13:41.945396Z",
     "shell.execute_reply": "2024-10-29T07:13:41.944007Z"
    },
    "papermill": {
     "duration": 0.028255,
     "end_time": "2024-10-29T07:13:41.948354",
     "exception": false,
     "start_time": "2024-10-29T07:13:41.920099",
     "status": "completed"
    },
    "tags": []
   },
   "outputs": [
    {
     "name": "stdout",
     "output_type": "stream",
     "text": [
      "Example: màu_sắc tươi_tắn gia_công rất tốt mặc thoải_mái\n",
      "=> fabric_quality: positive\n"
     ]
    }
   ],
   "source": [
    "replacements = {0: None, 3: 'positive', 1: 'negative', 2: 'neutral'}\n",
    "categories = data_test.columns[:-1]\n",
    "print('Example:', data_test['processed_text'][11])\n",
    "print_acsa_pred(replacements,categories, y_pred_gru_conv[11])"
   ]
  },
  {
   "cell_type": "code",
   "execution_count": 21,
   "id": "9690106c",
   "metadata": {
    "execution": {
     "iopub.execute_input": "2024-10-29T07:13:41.982991Z",
     "iopub.status.busy": "2024-10-29T07:13:41.982683Z",
     "iopub.status.idle": "2024-10-29T07:13:42.001435Z",
     "shell.execute_reply": "2024-10-29T07:13:42.000545Z"
    },
    "executionInfo": {
     "elapsed": 445,
     "status": "ok",
     "timestamp": 1718435170564,
     "user": {
      "displayName": "Dat Ngo",
      "userId": "13060706993402273291"
     },
     "user_tz": -420
    },
    "id": "oGDyy6cneUYz",
    "papermill": {
     "duration": 0.037121,
     "end_time": "2024-10-29T07:13:42.003228",
     "exception": false,
     "start_time": "2024-10-29T07:13:41.966107",
     "status": "completed"
    },
    "tags": []
   },
   "outputs": [],
   "source": [
    "aspect_test = []\n",
    "aspect_pred = []\n",
    "y_test_argmax = np.argmax(label_test, axis=-1)\n",
    "\n",
    "for row_test, row_pred in zip(y_test_argmax, y_pred_gru_conv):\n",
    "    for index, (col_test, col_pred) in enumerate(zip(row_test, row_pred)):\n",
    "        aspect_test.append(bool(col_test) * categories[index])\n",
    "        aspect_pred.append(bool(col_pred) * categories[index])"
   ]
  },
  {
   "cell_type": "code",
   "execution_count": 22,
   "id": "5242c5ec",
   "metadata": {
    "execution": {
     "iopub.execute_input": "2024-10-29T07:13:42.033935Z",
     "iopub.status.busy": "2024-10-29T07:13:42.033600Z",
     "iopub.status.idle": "2024-10-29T07:13:42.105296Z",
     "shell.execute_reply": "2024-10-29T07:13:42.104436Z"
    },
    "executionInfo": {
     "elapsed": 1020,
     "status": "ok",
     "timestamp": 1718435175265,
     "user": {
      "displayName": "Dat Ngo",
      "userId": "13060706993402273291"
     },
     "user_tz": -420
    },
    "id": "oGshuohCe8CH",
    "outputId": "e8b17fca-bcf7-4ace-bc69-b5f92b22a5e6",
    "papermill": {
     "duration": 0.089094,
     "end_time": "2024-10-29T07:13:42.107196",
     "exception": false,
     "start_time": "2024-10-29T07:13:42.018102",
     "status": "completed"
    },
    "tags": []
   },
   "outputs": [
    {
     "data": {
      "text/html": [
       "<div>\n",
       "<style scoped>\n",
       "    .dataframe tbody tr th:only-of-type {\n",
       "        vertical-align: middle;\n",
       "    }\n",
       "\n",
       "    .dataframe tbody tr th {\n",
       "        vertical-align: top;\n",
       "    }\n",
       "\n",
       "    .dataframe thead th {\n",
       "        text-align: right;\n",
       "    }\n",
       "</style>\n",
       "<table border=\"1\" class=\"dataframe\">\n",
       "  <thead>\n",
       "    <tr style=\"text-align: right;\">\n",
       "      <th></th>\n",
       "      <th>precision</th>\n",
       "      <th>recall</th>\n",
       "      <th>f1-score</th>\n",
       "      <th>support</th>\n",
       "    </tr>\n",
       "  </thead>\n",
       "  <tbody>\n",
       "    <tr>\n",
       "      <th></th>\n",
       "      <td>0.947649</td>\n",
       "      <td>0.954332</td>\n",
       "      <td>0.950979</td>\n",
       "      <td>2978.000000</td>\n",
       "    </tr>\n",
       "    <tr>\n",
       "      <th>appearance</th>\n",
       "      <td>0.775510</td>\n",
       "      <td>0.830601</td>\n",
       "      <td>0.802111</td>\n",
       "      <td>183.000000</td>\n",
       "    </tr>\n",
       "    <tr>\n",
       "      <th>delivery</th>\n",
       "      <td>0.869565</td>\n",
       "      <td>0.983607</td>\n",
       "      <td>0.923077</td>\n",
       "      <td>61.000000</td>\n",
       "    </tr>\n",
       "    <tr>\n",
       "      <th>fabric_quality</th>\n",
       "      <td>0.808743</td>\n",
       "      <td>0.826816</td>\n",
       "      <td>0.817680</td>\n",
       "      <td>179.000000</td>\n",
       "    </tr>\n",
       "    <tr>\n",
       "      <th>others</th>\n",
       "      <td>0.742268</td>\n",
       "      <td>0.742268</td>\n",
       "      <td>0.742268</td>\n",
       "      <td>97.000000</td>\n",
       "    </tr>\n",
       "    <tr>\n",
       "      <th>packaging</th>\n",
       "      <td>0.705882</td>\n",
       "      <td>0.666667</td>\n",
       "      <td>0.685714</td>\n",
       "      <td>18.000000</td>\n",
       "    </tr>\n",
       "    <tr>\n",
       "      <th>price</th>\n",
       "      <td>0.888889</td>\n",
       "      <td>0.421053</td>\n",
       "      <td>0.571429</td>\n",
       "      <td>38.000000</td>\n",
       "    </tr>\n",
       "    <tr>\n",
       "      <th>service</th>\n",
       "      <td>0.571429</td>\n",
       "      <td>0.235294</td>\n",
       "      <td>0.333333</td>\n",
       "      <td>17.000000</td>\n",
       "    </tr>\n",
       "    <tr>\n",
       "      <th>size_fit</th>\n",
       "      <td>0.717391</td>\n",
       "      <td>0.540984</td>\n",
       "      <td>0.616822</td>\n",
       "      <td>61.000000</td>\n",
       "    </tr>\n",
       "    <tr>\n",
       "      <th>accuracy</th>\n",
       "      <td>0.919328</td>\n",
       "      <td>0.919328</td>\n",
       "      <td>0.919328</td>\n",
       "      <td>0.919328</td>\n",
       "    </tr>\n",
       "    <tr>\n",
       "      <th>macro avg</th>\n",
       "      <td>0.780814</td>\n",
       "      <td>0.689069</td>\n",
       "      <td>0.715935</td>\n",
       "      <td>3632.000000</td>\n",
       "    </tr>\n",
       "    <tr>\n",
       "      <th>weighted avg</th>\n",
       "      <td>0.917892</td>\n",
       "      <td>0.919328</td>\n",
       "      <td>0.917077</td>\n",
       "      <td>3632.000000</td>\n",
       "    </tr>\n",
       "  </tbody>\n",
       "</table>\n",
       "</div>"
      ],
      "text/plain": [
       "                precision    recall  f1-score      support\n",
       "                 0.947649  0.954332  0.950979  2978.000000\n",
       "appearance       0.775510  0.830601  0.802111   183.000000\n",
       "delivery         0.869565  0.983607  0.923077    61.000000\n",
       "fabric_quality   0.808743  0.826816  0.817680   179.000000\n",
       "others           0.742268  0.742268  0.742268    97.000000\n",
       "packaging        0.705882  0.666667  0.685714    18.000000\n",
       "price            0.888889  0.421053  0.571429    38.000000\n",
       "service          0.571429  0.235294  0.333333    17.000000\n",
       "size_fit         0.717391  0.540984  0.616822    61.000000\n",
       "accuracy         0.919328  0.919328  0.919328     0.919328\n",
       "macro avg        0.780814  0.689069  0.715935  3632.000000\n",
       "weighted avg     0.917892  0.919328  0.917077  3632.000000"
      ]
     },
     "execution_count": 22,
     "metadata": {},
     "output_type": "execute_result"
    }
   ],
   "source": [
    "aspect_report = classification_report(aspect_test, aspect_pred, digits=2, zero_division=1, output_dict=True)\n",
    "\n",
    "# Convert the dictionary to a pandas DataFrame\n",
    "aspect_report_df = pd.DataFrame(aspect_report).transpose()\n",
    "aspect_report_df"
   ]
  },
  {
   "cell_type": "code",
   "execution_count": 23,
   "id": "4ce225d0",
   "metadata": {
    "execution": {
     "iopub.execute_input": "2024-10-29T07:13:42.138970Z",
     "iopub.status.busy": "2024-10-29T07:13:42.138664Z",
     "iopub.status.idle": "2024-10-29T07:13:42.210286Z",
     "shell.execute_reply": "2024-10-29T07:13:42.209432Z"
    },
    "papermill": {
     "duration": 0.089582,
     "end_time": "2024-10-29T07:13:42.212241",
     "exception": false,
     "start_time": "2024-10-29T07:13:42.122659",
     "status": "completed"
    },
    "tags": []
   },
   "outputs": [
    {
     "data": {
      "text/html": [
       "<div>\n",
       "<style scoped>\n",
       "    .dataframe tbody tr th:only-of-type {\n",
       "        vertical-align: middle;\n",
       "    }\n",
       "\n",
       "    .dataframe tbody tr th {\n",
       "        vertical-align: top;\n",
       "    }\n",
       "\n",
       "    .dataframe thead th {\n",
       "        text-align: right;\n",
       "    }\n",
       "</style>\n",
       "<table border=\"1\" class=\"dataframe\">\n",
       "  <thead>\n",
       "    <tr style=\"text-align: right;\">\n",
       "      <th></th>\n",
       "      <th>Aspect</th>\n",
       "      <th>Aspect Detection (F1 Score)</th>\n",
       "      <th>Sentiment Analysis (F1 Score)</th>\n",
       "    </tr>\n",
       "  </thead>\n",
       "  <tbody>\n",
       "    <tr>\n",
       "      <th>0</th>\n",
       "      <td>appearance</td>\n",
       "      <td>0.80</td>\n",
       "      <td>0.82</td>\n",
       "    </tr>\n",
       "    <tr>\n",
       "      <th>1</th>\n",
       "      <td>delivery</td>\n",
       "      <td>0.92</td>\n",
       "      <td>0.97</td>\n",
       "    </tr>\n",
       "    <tr>\n",
       "      <th>2</th>\n",
       "      <td>fabric_quality</td>\n",
       "      <td>0.82</td>\n",
       "      <td>0.82</td>\n",
       "    </tr>\n",
       "    <tr>\n",
       "      <th>3</th>\n",
       "      <td>others</td>\n",
       "      <td>0.74</td>\n",
       "      <td>0.89</td>\n",
       "    </tr>\n",
       "    <tr>\n",
       "      <th>4</th>\n",
       "      <td>packaging</td>\n",
       "      <td>0.69</td>\n",
       "      <td>0.98</td>\n",
       "    </tr>\n",
       "    <tr>\n",
       "      <th>5</th>\n",
       "      <td>price</td>\n",
       "      <td>0.57</td>\n",
       "      <td>0.94</td>\n",
       "    </tr>\n",
       "    <tr>\n",
       "      <th>6</th>\n",
       "      <td>service</td>\n",
       "      <td>0.33</td>\n",
       "      <td>0.96</td>\n",
       "    </tr>\n",
       "    <tr>\n",
       "      <th>7</th>\n",
       "      <td>size_fit</td>\n",
       "      <td>0.62</td>\n",
       "      <td>0.88</td>\n",
       "    </tr>\n",
       "    <tr>\n",
       "      <th>8</th>\n",
       "      <td>overall</td>\n",
       "      <td>0.72</td>\n",
       "      <td>0.91</td>\n",
       "    </tr>\n",
       "  </tbody>\n",
       "</table>\n",
       "</div>"
      ],
      "text/plain": [
       "           Aspect  Aspect Detection (F1 Score)  Sentiment Analysis (F1 Score)\n",
       "0      appearance                         0.80                           0.82\n",
       "1        delivery                         0.92                           0.97\n",
       "2  fabric_quality                         0.82                           0.82\n",
       "3          others                         0.74                           0.89\n",
       "4       packaging                         0.69                           0.98\n",
       "5           price                         0.57                           0.94\n",
       "6         service                         0.33                           0.96\n",
       "7        size_fit                         0.62                           0.88\n",
       "8         overall                         0.72                           0.91"
      ]
     },
     "execution_count": 23,
     "metadata": {},
     "output_type": "execute_result"
    }
   ],
   "source": [
    "f1_scores_list = []\n",
    "overall_sentiment_f1 = 0\n",
    "\n",
    "for i in range(num_aspects):\n",
    "    aspect_name = data_train.columns[i]\n",
    "\n",
    "    # Aspect Detection F1\n",
    "    aspect_detection_f1 = aspect_report_df['f1-score'][aspect_name]\n",
    "\n",
    "    # Sentiment Analysis F1\n",
    "    report = classification_report(true_labels[:, i], predicted_labels[:, i], labels=[0, 1, 2, 3],\n",
    "                                   target_names=['None', 'Negative', 'Neutral', 'Positive'],\n",
    "                                   output_dict=True, zero_division=0)\n",
    "    sentiment_f1 = report['weighted avg']['f1-score']\n",
    "    overall_sentiment_f1 += sentiment_f1\n",
    "\n",
    "    f1_scores_list.append({\n",
    "        'Aspect': aspect_name,\n",
    "        'Aspect Detection (F1 Score)': aspect_detection_f1,\n",
    "        'Sentiment Analysis (F1 Score)': sentiment_f1\n",
    "    })\n",
    "\n",
    "# Calculate overall scores\n",
    "macro_aspect_detection_f1 = aspect_report_df['f1-score']['macro avg']\n",
    "average_sentiment_f1 = overall_sentiment_f1 / num_aspects\n",
    "\n",
    "f1_scores_list.append({\n",
    "    'Aspect': 'overall',\n",
    "    'Aspect Detection (F1 Score)': macro_aspect_detection_f1,\n",
    "    'Sentiment Analysis (F1 Score)': average_sentiment_f1\n",
    "})\n",
    "\n",
    "f1_scores_df = pd.DataFrame(f1_scores_list)\n",
    "f1_scores_df.round(2)"
   ]
  }
 ],
 "metadata": {
  "colab": {
   "authorship_tag": "ABX9TyOm084aY7T8v4zrntpOqM1G",
   "provenance": [],
   "toc_visible": true
  },
  "kaggle": {
   "accelerator": "nvidiaTeslaT4",
   "dataSources": [
    {
     "datasetId": 5953869,
     "sourceId": 9729414,
     "sourceType": "datasetVersion"
    },
    {
     "datasetId": 5957413,
     "sourceId": 9734278,
     "sourceType": "datasetVersion"
    }
   ],
   "dockerImageVersionId": 30786,
   "isGpuEnabled": true,
   "isInternetEnabled": true,
   "language": "python",
   "sourceType": "notebook"
  },
  "kernelspec": {
   "display_name": "Python 3",
   "language": "python",
   "name": "python3"
  },
  "language_info": {
   "codemirror_mode": {
    "name": "ipython",
    "version": 3
   },
   "file_extension": ".py",
   "mimetype": "text/x-python",
   "name": "python",
   "nbconvert_exporter": "python",
   "pygments_lexer": "ipython3",
   "version": "3.10.14"
  },
  "papermill": {
   "default_parameters": {},
   "duration": 368.77926,
   "end_time": "2024-10-29T07:13:45.200032",
   "environment_variables": {},
   "exception": null,
   "input_path": "__notebook__.ipynb",
   "output_path": "__notebook__.ipynb",
   "parameters": {},
   "start_time": "2024-10-29T07:07:36.420772",
   "version": "2.6.0"
  }
 },
 "nbformat": 4,
 "nbformat_minor": 5
}
